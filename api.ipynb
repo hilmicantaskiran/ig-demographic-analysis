{
 "cells": [
  {
   "cell_type": "code",
   "execution_count": 1,
   "metadata": {},
   "outputs": [],
   "source": [
    "import json\n",
    "import requests"
   ]
  },
  {
   "cell_type": "code",
   "execution_count": 2,
   "metadata": {},
   "outputs": [],
   "source": [
    "def get_token():\n",
    "    url_token = \"https://instagram-flask-api.herokuapp.com/api/auth/login\"\n",
    "    payload_token = json.dumps({\n",
    "      \"email\": \"test@gmail.com\",\n",
    "      \"password\": \"test12345\"\n",
    "    })\n",
    "    headers_token = {\n",
    "      'Content-Type': 'application/json'\n",
    "    }\n",
    "    token = requests.request(\"POST\", url_token, headers=headers_token, \n",
    "                             data=payload_token).json()['token']\n",
    "    return token"
   ]
  },
  {
   "cell_type": "code",
   "execution_count": 3,
   "metadata": {},
   "outputs": [],
   "source": [
    "def get_inf(token):\n",
    "    url= \"https://instagram-flask-api.herokuapp.com/api/inf/detail\"\n",
    "    payload = {}\n",
    "    headers = {\n",
    "      'Authorization': 'Bearer ' + token,\n",
    "      'Content-Type': 'application/json'\n",
    "    }\n",
    "    response = requests.request(\"GET\", url, headers=headers, data=payload).json()\n",
    "    return response"
   ]
  },
  {
   "cell_type": "code",
   "execution_count": 4,
   "metadata": {},
   "outputs": [],
   "source": [
    "def get_inf_detail(username, token):\n",
    "    url = \"https://instagram-flask-api.herokuapp.com/api/inf/detail/\" + username\n",
    "    payload = {}\n",
    "    headers = {\n",
    "        'Authorization': 'Bearer ' + token,\n",
    "        'Content-Type': 'application/json'\n",
    "    }\n",
    "\n",
    "    response = requests.request(\"GET\", url, headers=headers, data=payload)\n",
    "    return response"
   ]
  },
  {
   "cell_type": "code",
   "execution_count": 5,
   "metadata": {},
   "outputs": [],
   "source": [
    "def send_gender(username, token, gender):\n",
    "    url = \"https://instagram-flask-api.herokuapp.com/api/inf/gender\"\n",
    "    payload = json.dumps({\n",
    "        \"username\": username,\n",
    "        \"gender\": gender\n",
    "    })\n",
    "    headers = {\n",
    "        'Authorization': 'Bearer ' + token,\n",
    "        'Content-Type': 'application/json'\n",
    "    }\n",
    "\n",
    "    requests.request(\"POST\", url, headers=headers, data=payload).json()"
   ]
  },
  {
   "cell_type": "code",
   "execution_count": 6,
   "metadata": {},
   "outputs": [],
   "source": [
    "def post_followers(username, follower_data, token):\n",
    "    url = \"https://instagram-flask-api.herokuapp.com/api/inf/detail\"\n",
    "\n",
    "    payload = json.dumps({\n",
    "        'username': username,\n",
    "        'follower': follower_data\n",
    "    })\n",
    "\n",
    "    headers = {\n",
    "        'Authorization': 'Bearer ' + token,\n",
    "        'Content-Type': 'application/json'\n",
    "    }\n",
    "\n",
    "    response = requests.request(\"POST\", url, headers=headers, data=payload)"
   ]
  },
  {
   "cell_type": "code",
   "execution_count": null,
   "metadata": {},
   "outputs": [],
   "source": []
  }
 ],
 "metadata": {
  "kernelspec": {
   "display_name": "Python 3",
   "language": "python",
   "name": "python3"
  },
  "language_info": {
   "codemirror_mode": {
    "name": "ipython",
    "version": 3
   },
   "file_extension": ".py",
   "mimetype": "text/x-python",
   "name": "python",
   "nbconvert_exporter": "python",
   "pygments_lexer": "ipython3",
   "version": "3.9.0"
  }
 },
 "nbformat": 4,
 "nbformat_minor": 4
}
