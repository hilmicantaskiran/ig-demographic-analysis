{
 "cells": [
  {
   "cell_type": "code",
   "execution_count": 1,
   "metadata": {},
   "outputs": [],
   "source": [
    "import cv2\n",
    "import time\n",
    "import json\n",
    "import instaloader\n",
    "import numpy as np\n",
    "from urllib import request\n",
    "from deepface import DeepFace"
   ]
  },
  {
   "cell_type": "code",
   "execution_count": 2,
   "metadata": {},
   "outputs": [],
   "source": [
    "def deepface(df, i, deepface_data, deepface_M, deepface_F):\n",
    "    s = time.perf_counter()\n",
    "    for username in df:\n",
    "        i += 1\n",
    "        L = instaloader.InstaloaderContext()\n",
    "        L.get_anonymous_session()\n",
    "        try:\n",
    "            url = \"https://www.instagram.com/\" + username + \"/channel/?__a=1\"\n",
    "            pic_url = L.get_raw(url).json()['graphql']['user']['profile_pic_url_hd']\n",
    "            resp = request.urlopen(pic_url)\n",
    "            image = np.asarray(bytearray(resp.read()), dtype=\"uint8\")\n",
    "            image = cv2.imdecode(image, cv2.IMREAD_COLOR)\n",
    "            demography = DeepFace.analyze(image, actions = ['age', 'gender'])\n",
    "            deepface_data.append({\"Username\": username, \n",
    "                                  \"Gender\": demography[\"gender\"], \n",
    "                                  \"Age\": int(demography[\"age\"])})\n",
    "            print(\"%d | %.2f | %s |> %s |> %d\" % (i, (time.perf_counter() - s), \n",
    "                                                  username, demography[\"gender\"], demography[\"age\"]))\n",
    "            L.close()\n",
    "        except:\n",
    "            print(\"%d | %.2f | %s |> Failed\" % (i, (time.perf_counter() - s), username))\n",
    "            L.close()\n",
    "             \n",
    "    for i in range(len(deepface_data)):\n",
    "        if deepface_data[i]['Gender'] == 'Woman':\n",
    "            deepface_F += 1\n",
    "            deepface_data[i]['Gender'] = 'female'\n",
    "        else:\n",
    "            deepface_M += 1\n",
    "            deepface_data[i]['Gender'] = 'male'\n",
    "            \n",
    "    age1, age2, age3, age4, age5 = 0, 0, 0, 0, 0\n",
    "    for i in range(len(deepface_data)):\n",
    "        if deepface_data[i]['Age'] < 18:\n",
    "            age1 += 1\n",
    "        if 18 <= deepface_data[i]['Age']  < 25:\n",
    "            age2 += 1\n",
    "        if 25 <= deepface_data[i]['Age']  < 30:\n",
    "            age3 += 1\n",
    "        if 30 <= deepface_data[i]['Age']  < 40:\n",
    "            age4 += 1\n",
    "        else:\n",
    "            age5 += 1\n",
    "\n",
    "    print(\"\\n%d - %d - %d - %d - %d\" % (age1, age2, age3, age4, age5))\n",
    "\n",
    "    deepface_time = time.perf_counter() - s\n",
    "    print(\"\\nTime: %.2f | Total: %d | Detected: %d | Male: %d | Female: %d\\n\" \n",
    "          % (deepface_time, i, len(deepface_data), deepface_M, deepface_F))\n",
    "\n",
    "    return deepface_data, deepface_time, deepface_M, deepface_F"
   ]
  },
  {
   "cell_type": "code",
   "execution_count": null,
   "metadata": {},
   "outputs": [],
   "source": []
  }
 ],
 "metadata": {
  "kernelspec": {
   "display_name": "Python 3",
   "language": "python",
   "name": "python3"
  },
  "language_info": {
   "codemirror_mode": {
    "name": "ipython",
    "version": 3
   },
   "file_extension": ".py",
   "mimetype": "text/x-python",
   "name": "python",
   "nbconvert_exporter": "python",
   "pygments_lexer": "ipython3",
   "version": "3.9.0"
  }
 },
 "nbformat": 4,
 "nbformat_minor": 4
}
