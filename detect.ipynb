{
 "cells": [
  {
   "cell_type": "code",
   "execution_count": 1,
   "metadata": {},
   "outputs": [],
   "source": [
    "import time\n",
    "import json\n",
    "import instaloader\n",
    "import gender_guesser.detector as gender"
   ]
  },
  {
   "cell_type": "code",
   "execution_count": 2,
   "metadata": {},
   "outputs": [],
   "source": [
    "def detect(df, count, data, d, genderF, genderM):\n",
    "    s = time.perf_counter()\n",
    "    for username in df:\n",
    "        count += 1\n",
    "        L = instaloader.InstaloaderContext()\n",
    "        L.get_anonymous_session()\n",
    "        try:\n",
    "            url = \"https://www.instagram.com/\" + username + \"/channel/?__a=1\"\n",
    "            name = L.get_raw(url).json()['graphql']['user']['full_name']\n",
    "            name = name.split(' ')[0].title()\n",
    "            g = d.get_gender(name)\n",
    "            if g == 'unknown':\n",
    "                print(\"%d | %.2f | %s |> Unknown\" % (count, (time.perf_counter() - s), username))\n",
    "            else:\n",
    "                data.append({\"Username\": username, \n",
    "                             \"Gender\": g})\n",
    "                print('%d | %.2f | %s |> %s |> %s' % (count, (time.perf_counter() - s), \n",
    "                                                      username, name, g))\n",
    "            L.close()\n",
    "\n",
    "        except:\n",
    "            print(\"%d | %.2f | %s |> Failed\" % (count, (time.perf_counter() - s), username))\n",
    "            L.close()\n",
    "    \n",
    "    for i in range(len(data)):\n",
    "        if data[i]['Gender'] == 'female' or data[i]['Gender'] == 'mostly_female':\n",
    "            genderF += 1\n",
    "            data[i]['Gender'] = 'female'\n",
    "        else:\n",
    "            genderM += 1\n",
    "            data[i]['Gender'] = 'male'\n",
    "\n",
    "    gender_time = time.perf_counter() - s\n",
    "    print(\"\\nTime: %.2f | Total: %d | Detected: %d | Male: %d | Female: %d\\n\"\n",
    "          % (gender_time, count, len(data), genderM, genderF))\n",
    "    \n",
    "    return data, gender_time, genderM, genderF"
   ]
  },
  {
   "cell_type": "code",
   "execution_count": null,
   "metadata": {},
   "outputs": [],
   "source": []
  }
 ],
 "metadata": {
  "kernelspec": {
   "display_name": "Python 3",
   "language": "python",
   "name": "python3"
  },
  "language_info": {
   "codemirror_mode": {
    "name": "ipython",
    "version": 3
   },
   "file_extension": ".py",
   "mimetype": "text/x-python",
   "name": "python",
   "nbconvert_exporter": "python",
   "pygments_lexer": "ipython3",
   "version": "3.9.0"
  }
 },
 "nbformat": 4,
 "nbformat_minor": 4
}
