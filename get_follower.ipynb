{
 "cells": [
  {
   "cell_type": "code",
   "execution_count": 4,
   "metadata": {},
   "outputs": [],
   "source": [
    "import os\n",
    "import time\n",
    "import json\n",
    "import reprlib\n",
    "import requests\n",
    "import instaloader\n",
    "from pathlib import Path\n",
    "from dotenv import load_dotenv"
   ]
  },
  {
   "cell_type": "code",
   "execution_count": 10,
   "metadata": {},
   "outputs": [],
   "source": [
    "def get_followers(username, token, follower_list):\n",
    "    i = 0\n",
    "    dotenv_path = Path('.env')\n",
    "    load_dotenv(dotenv_path=dotenv_path)\n",
    "    \n",
    "    ig = os.getenv('IG_USERNAME')\n",
    "    password = os.getenv('IG_PASSWORD')\n",
    "    \n",
    "    L = instaloader.Instaloader()\n",
    "    L.login(ig, password) \n",
    "    \n",
    "    p = instaloader.Profile.from_username(L.context, username)\n",
    "    \n",
    "    s_time = time.time()\n",
    "    for follower in p.get_followers():\n",
    "        try:\n",
    "            i += 1\n",
    "            follower_username = follower.username\n",
    "            follower_list.append(follower_username)\n",
    "            print(\"%d | %.2f | %s\" % (i, (time.time() - s_time), follower_username))\n",
    "        except:\n",
    "            break\n",
    "\n",
    "        if i == 1000:\n",
    "            break\n",
    "\n",
    "        if i % 100 == 0:\n",
    "            time.sleep(10)\n",
    "        \n",
    "    print(f'\\nTime: {(time.time() - s_time)}\\n')\n",
    "    return follower_list\n"
   ]
  },
  {
   "cell_type": "code",
   "execution_count": null,
   "metadata": {},
   "outputs": [],
   "source": []
  }
 ],
 "metadata": {
  "kernelspec": {
   "display_name": "Python 3 (ipykernel)",
   "language": "python",
   "name": "python3"
  },
  "language_info": {
   "codemirror_mode": {
    "name": "ipython",
    "version": 3
   },
   "file_extension": ".py",
   "mimetype": "text/x-python",
   "name": "python",
   "nbconvert_exporter": "python",
   "pygments_lexer": "ipython3",
   "version": "3.9.7"
  }
 },
 "nbformat": 4,
 "nbformat_minor": 4
}
